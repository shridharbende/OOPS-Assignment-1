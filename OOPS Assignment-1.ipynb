{
 "cells": [
  {
   "cell_type": "markdown",
   "id": "1f072597-74b3-4553-957f-64fb9eadeee9",
   "metadata": {},
   "source": [
    "Q1. Explain Class and Object with respect to Object-Oriented Programming. Give a suitable example."
   ]
  },
  {
   "cell_type": "code",
   "execution_count": 1,
   "id": "8901d9ab-a2bf-4541-8ba6-140ee82906c1",
   "metadata": {},
   "outputs": [
    {
     "data": {
      "text/plain": [
       "<bound method pw_s.data of <__main__.pw_s object at 0x7f9d8b65ebf0>>"
      ]
     },
     "execution_count": 1,
     "metadata": {},
     "output_type": "execute_result"
    }
   ],
   "source": [
    "#Class- class is set of rule or function defined for object or we can say that it is object constructor.\n",
    "#Object- object is like data type which belongs to a specific class and follow specific rules written in that class\n",
    "\n",
    "#example- \n",
    "\n",
    "class pw_s:\n",
    "# now we write function for objects which fall in this class\n",
    "        def data():\n",
    "            return 1\n",
    "#Now we create a object under that class\n",
    "ram=pw_s()\n",
    "ram.data"
   ]
  },
  {
   "cell_type": "markdown",
   "id": "275a2f3b-b3d7-4ba7-b35e-43d2914b47a6",
   "metadata": {},
   "source": [
    "Q2. Name the four pillars of OOPs."
   ]
  },
  {
   "cell_type": "code",
   "execution_count": 3,
   "id": "cacc9426-9bc3-4533-bcf6-d1e919dcf4e0",
   "metadata": {},
   "outputs": [],
   "source": [
    "#The Four Pillars of Object Oriented Programming\n",
    "#Abstraction\n",
    "#Encapsulation\n",
    "#Inheritance\n",
    "#Polymorphism"
   ]
  },
  {
   "cell_type": "markdown",
   "id": "58bd479b-83a9-45e3-97a2-acd0cb409079",
   "metadata": {},
   "source": [
    "Q3. Explain why the __init__() function is used. Give a suitable example."
   ]
  },
  {
   "cell_type": "code",
   "execution_count": 10,
   "id": "c73fe389-0fd3-4c4e-a967-b5a22e43c879",
   "metadata": {},
   "outputs": [],
   "source": [
    "#__init__ is used to pass some input in class \n",
    "class shridhar:\n",
    "    def __init__(self, name , roll_no):\n",
    "        self.name=name \n",
    "        self.roll_no=roll_no\n",
    "        "
   ]
  },
  {
   "cell_type": "code",
   "execution_count": 11,
   "id": "6e8e6dab-f701-406f-b157-e26bbcf68bad",
   "metadata": {},
   "outputs": [],
   "source": [
    "sanket=shridhar('abhishek',26)"
   ]
  },
  {
   "cell_type": "code",
   "execution_count": 12,
   "id": "3373a637-d750-4853-9be4-723d97da7349",
   "metadata": {},
   "outputs": [
    {
     "data": {
      "text/plain": [
       "'abhishek'"
      ]
     },
     "execution_count": 12,
     "metadata": {},
     "output_type": "execute_result"
    }
   ],
   "source": [
    "sanket.name"
   ]
  },
  {
   "cell_type": "code",
   "execution_count": 13,
   "id": "fa427d2d-be95-4c01-8fdf-17e24bf556d3",
   "metadata": {},
   "outputs": [
    {
     "data": {
      "text/plain": [
       "26"
      ]
     },
     "execution_count": 13,
     "metadata": {},
     "output_type": "execute_result"
    }
   ],
   "source": [
    "sanket.roll_no"
   ]
  },
  {
   "cell_type": "markdown",
   "id": "8d967621-40fb-4e79-b6e9-21363c13fc77",
   "metadata": {},
   "source": [
    "Q4. Why self is used in OOPs?"
   ]
  },
  {
   "cell_type": "code",
   "execution_count": 15,
   "id": "e8dea170-cdfa-45b0-8812-79fa9465952b",
   "metadata": {},
   "outputs": [],
   "source": [
    "#The “self” keyword represents the instance of the class. By using the “self” keyword, we can access the attributes and methods of the class.\n",
    "#It is useful in method definitions and in variable initialization. The “self” is explicitly used every time we define a method."
   ]
  },
  {
   "cell_type": "markdown",
   "id": "8c62108f-d0e1-404a-96fb-01e7342d95c1",
   "metadata": {},
   "source": [
    "Q5. What is inheritance? Give an example for each type of inheritance."
   ]
  },
  {
   "cell_type": "code",
   "execution_count": 24,
   "id": "0eb0cd3b-f289-4d65-83e4-904959d66c07",
   "metadata": {},
   "outputs": [],
   "source": [
    "# Inheritance is the property of class in which a class inherit properties of different class.\n",
    "\n",
    "#Different type of inheritances are:\n",
    "    #1 Single Inheritance: Single inheritance enables a derived class to inherit properties from a single parent class, thus enabling code reusability and the addition of new features to existing code.\n",
    "\n",
    "#example:-\n",
    "\n",
    "class Parent:\n",
    "    def func1(self):\n",
    "        print(\"This function is in parent class.\")\n",
    "        \n",
    "class Child(Parent):\n",
    "    def func2(self):\n",
    "        print(\"This function is in child class.\")\n"
   ]
  },
  {
   "cell_type": "code",
   "execution_count": 17,
   "id": "f0b085fa-8801-4196-973a-1b4c97751689",
   "metadata": {},
   "outputs": [],
   "source": [
    "object = Child()"
   ]
  },
  {
   "cell_type": "code",
   "execution_count": 18,
   "id": "0a853921-b89e-40a6-a208-2de9da80ee17",
   "metadata": {},
   "outputs": [
    {
     "name": "stdout",
     "output_type": "stream",
     "text": [
      "This function is in parent class.\n"
     ]
    }
   ],
   "source": [
    "object.func1()"
   ]
  },
  {
   "cell_type": "code",
   "execution_count": 20,
   "id": "a79f5980-e623-4490-ae5d-68f08f70d43c",
   "metadata": {},
   "outputs": [
    {
     "name": "stdout",
     "output_type": "stream",
     "text": [
      "This function is in child class.\n"
     ]
    }
   ],
   "source": [
    "object.func2()"
   ]
  },
  {
   "cell_type": "code",
   "execution_count": 26,
   "id": "edb32e37-35b7-425a-85b8-087ae783468c",
   "metadata": {},
   "outputs": [],
   "source": [
    "#2) Multiple Inheritance: \n",
    "#When a class can be derived from more than one base class this type of inheritance is called multiple inheritances. In multiple inheritances, all the features of the base classes are inherited into the derived class. \n",
    "\n",
    "\n",
    "#example:-\n",
    "\n",
    "class Mother:\n",
    "    mothername = \"\"\n",
    " \n",
    "    def mother(self):\n",
    "        print(self.mothername)\n",
    "        \n",
    "class Father:\n",
    "    fathername = \"\"\n",
    " \n",
    "    def father(self):\n",
    "        print(self.fathername)\n",
    "        \n",
    "class Son(Mother, Father):\n",
    "    def parents(self):\n",
    "        print(\"Father \", self.fathername)\n",
    "        print(\"Mother \", self.mothername)"
   ]
  },
  {
   "cell_type": "code",
   "execution_count": 28,
   "id": "0e3c791e-c7d5-487f-bc6c-6d0d89994fad",
   "metadata": {},
   "outputs": [],
   "source": [
    "s1 = Son()"
   ]
  },
  {
   "cell_type": "code",
   "execution_count": 29,
   "id": "ec22a728-59cd-4759-9bd8-248c41c1b9ee",
   "metadata": {},
   "outputs": [],
   "source": [
    "s1.fathername = \"RAM\""
   ]
  },
  {
   "cell_type": "code",
   "execution_count": 31,
   "id": "d2b1ef23-dfc7-4da3-bd7b-4d1ae99e623e",
   "metadata": {},
   "outputs": [],
   "source": [
    "s1.mothername = \"SITA\""
   ]
  },
  {
   "cell_type": "code",
   "execution_count": 32,
   "id": "3101eb2c-6692-4c30-91a4-dd26cd05f067",
   "metadata": {},
   "outputs": [
    {
     "name": "stdout",
     "output_type": "stream",
     "text": [
      "Father : RAM\n",
      "Mother : SITA\n"
     ]
    }
   ],
   "source": [
    "s1.parents()"
   ]
  },
  {
   "cell_type": "code",
   "execution_count": 83,
   "id": "e53ab745-7cc5-4d11-924f-40a01020b741",
   "metadata": {},
   "outputs": [],
   "source": [
    "#3) Multilevel Inheritance :\n",
    "#In multilevel inheritance, features of the base class and the derived class are further inherited into the new derived class. This is similar to a relationship representing a child and a grandfather. \n",
    "\n",
    "#example:-\n",
    "\n",
    "class Grandfather:\n",
    " \n",
    "    def __init__(self, grandfathername):\n",
    "        self.grandfathername = grandfathername\n",
    "        \n",
    "class Father(Grandfather):\n",
    "    def __init__(self, fathername, grandfathername):\n",
    "        self.fathername = fathername\n",
    "        Grandfather.__init__(self, grandfathername)\n",
    "        \n",
    "class Son(Father):\n",
    "    def __init__(self, sonname, fathername, grandfathername):\n",
    "        self.sonname = sonname\n",
    "        Father.__init__(self, fathername, grandfathername)\n",
    "        \n",
    "def print_name(self):\n",
    "        print(\"Grandfather name\", self.grandfathername)\n",
    "        print(\"Father name\", self.fathername)\n",
    "        print(\"Son name\", self.sonname)\n",
    "        \n",
    "        "
   ]
  },
  {
   "cell_type": "code",
   "execution_count": 89,
   "id": "66f249d8-a014-474f-80e5-6fa39798bf7f",
   "metadata": {},
   "outputs": [
    {
     "name": "stdout",
     "output_type": "stream",
     "text": [
      "Lal mani\n",
      "Grandfather name : Lal mani\n",
      "Father name : Rampal\n",
      "Son name : Prince\n"
     ]
    }
   ],
   "source": [
    "s1 = Son('Prince', 'Rampal', 'Lal mani')\n",
    "print(s1.grandfathername)\n",
    "s1.print_name()"
   ]
  },
  {
   "cell_type": "code",
   "execution_count": null,
   "id": "93fbcb87-6093-4f0d-98d3-2ff783101ec0",
   "metadata": {},
   "outputs": [],
   "source": []
  }
 ],
 "metadata": {
  "kernelspec": {
   "display_name": "Python 3 (ipykernel)",
   "language": "python",
   "name": "python3"
  },
  "language_info": {
   "codemirror_mode": {
    "name": "ipython",
    "version": 3
   },
   "file_extension": ".py",
   "mimetype": "text/x-python",
   "name": "python",
   "nbconvert_exporter": "python",
   "pygments_lexer": "ipython3",
   "version": "3.10.8"
  }
 },
 "nbformat": 4,
 "nbformat_minor": 5
}
